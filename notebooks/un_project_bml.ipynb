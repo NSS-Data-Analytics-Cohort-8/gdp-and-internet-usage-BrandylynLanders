{
 "cells": [
  {
   "cell_type": "markdown",
   "id": "14076885",
   "metadata": {},
   "source": [
    "Task #3 - import required packages with their customary aliases"
   ]
  },
  {
   "cell_type": "code",
   "execution_count": 2,
   "id": "30082566",
   "metadata": {},
   "outputs": [],
   "source": [
    "import pandas as pd"
   ]
  },
  {
   "cell_type": "code",
   "execution_count": 3,
   "id": "95091ba3",
   "metadata": {},
   "outputs": [],
   "source": [
    "import numpy as np"
   ]
  },
  {
   "cell_type": "code",
   "execution_count": 4,
   "id": "742d92f0",
   "metadata": {},
   "outputs": [],
   "source": [
    "import matplotlib.pyplot as plt"
   ]
  },
  {
   "cell_type": "code",
   "execution_count": 5,
   "id": "ad25c429",
   "metadata": {},
   "outputs": [],
   "source": [
    "import seaborn as sns"
   ]
  },
  {
   "cell_type": "markdown",
   "id": "91cf0e09",
   "metadata": {},
   "source": [
    "Task #4 Using the pandas `read_csv()` method, read the GDP dataset into your notebook as a DataFrame called `gdp_df`. Take a look at the first few and last few rows to familiarize yourself with what is contained in this dataset."
   ]
  },
  {
   "cell_type": "code",
   "execution_count": 6,
   "id": "7c85e0b5",
   "metadata": {},
   "outputs": [],
   "source": [
    "gdp_df = pd.read_csv('..\\data\\gdp_percapita.csv')"
   ]
  },
  {
   "cell_type": "code",
   "execution_count": 7,
   "id": "e643e45c",
   "metadata": {},
   "outputs": [
    {
     "name": "stdout",
     "output_type": "stream",
     "text": [
      "  Country or Area  Year        Value  Value Footnotes\n",
      "0     Afghanistan  2020  1970.560169              NaN\n",
      "1     Afghanistan  2019  2065.036235              NaN\n",
      "2     Afghanistan  2018  2033.804389              NaN\n",
      "3     Afghanistan  2017  2058.400221              NaN\n",
      "4     Afghanistan  2016  2057.067978              NaN\n"
     ]
    }
   ],
   "source": [
    "print(gdp_df.head())"
   ]
  },
  {
   "cell_type": "code",
   "execution_count": 8,
   "id": "ffd7c7ca",
   "metadata": {},
   "outputs": [
    {
     "name": "stdout",
     "output_type": "stream",
     "text": [
      "     Country or Area  Year        Value  Value Footnotes\n",
      "7171        Zimbabwe  1994  2603.927369              NaN\n",
      "7172        Zimbabwe  1993  2420.092791              NaN\n",
      "7173        Zimbabwe  1992  2437.152908              NaN\n",
      "7174        Zimbabwe  1991  2733.696626              NaN\n",
      "7175        Zimbabwe  1990  2652.129209              NaN\n"
     ]
    }
   ],
   "source": [
    "print(gdp_df.tail())"
   ]
  },
  {
   "cell_type": "code",
   "execution_count": 9,
   "id": "327fb2f2",
   "metadata": {},
   "outputs": [
    {
     "name": "stdout",
     "output_type": "stream",
     "text": [
      "              Year          Value  Value Footnotes\n",
      "count  7176.000000    7176.000000              0.0\n",
      "mean   2005.405936   16958.938497              NaN\n",
      "std       8.853043   19243.365228              NaN\n",
      "min    1990.000000     436.720371              NaN\n",
      "25%    1998.000000    3591.252337              NaN\n",
      "50%    2006.000000    9990.901201              NaN\n",
      "75%    2013.000000   23478.750492              NaN\n",
      "max    2020.000000  161971.464661              NaN\n"
     ]
    }
   ],
   "source": [
    "print(gdp_df.describe())"
   ]
  },
  {
   "cell_type": "code",
   "execution_count": 10,
   "id": "a9422171",
   "metadata": {},
   "outputs": [
    {
     "name": "stdout",
     "output_type": "stream",
     "text": [
      "<class 'pandas.core.frame.DataFrame'>\n",
      "RangeIndex: 7176 entries, 0 to 7175\n",
      "Data columns (total 4 columns):\n",
      " #   Column           Non-Null Count  Dtype  \n",
      "---  ------           --------------  -----  \n",
      " 0   Country or Area  7176 non-null   object \n",
      " 1   Year             7176 non-null   int64  \n",
      " 2   Value            7176 non-null   float64\n",
      " 3   Value Footnotes  0 non-null      float64\n",
      "dtypes: float64(2), int64(1), object(1)\n",
      "memory usage: 224.4+ KB\n",
      "None\n"
     ]
    }
   ],
   "source": [
    "print(gdp_df.info())"
   ]
  },
  {
   "cell_type": "markdown",
   "id": "9570cd8a",
   "metadata": {},
   "source": [
    "Q5. How many rows and columns are in `gdp_df`? What are the data types of each column?"
   ]
  },
  {
   "cell_type": "markdown",
   "id": "42128ebd",
   "metadata": {},
   "source": [
    "A5. there are 7176 rows since python starts everything with zero, 4 columns (not including the number assigned to the row), two floats, one column of integers, one column labeled object (text or string)"
   ]
  },
  {
   "cell_type": "markdown",
   "id": "14f2589d",
   "metadata": {},
   "source": [
    "6. Drop the `Value Footnotes` column and rename the remaining three to 'Country', 'Year', and 'GDP_Per_Capita'."
   ]
  },
  {
   "cell_type": "code",
   "execution_count": 11,
   "id": "32df11d2",
   "metadata": {},
   "outputs": [],
   "source": [
    "gdp_df=gdp_df.drop('Value Footnotes',axis=1)\n",
    "gdp_df=gdp_df.rename(columns={'Country or Area':'Country', 'Value':'GDP_Per_Capita'})"
   ]
  },
  {
   "cell_type": "code",
   "execution_count": 12,
   "id": "73c34c56",
   "metadata": {},
   "outputs": [
    {
     "name": "stdout",
     "output_type": "stream",
     "text": [
      "       Country  Year  GDP_Per_Capita\n",
      "0  Afghanistan  2020     1970.560169\n",
      "1  Afghanistan  2019     2065.036235\n",
      "2  Afghanistan  2018     2033.804389\n",
      "3  Afghanistan  2017     2058.400221\n",
      "4  Afghanistan  2016     2057.067978\n"
     ]
    }
   ],
   "source": [
    "print(gdp_df.head())"
   ]
  },
  {
   "cell_type": "markdown",
   "id": "f67acd52",
   "metadata": {},
   "source": [
    "Q7. How many countries have data for all years? Which countries are missing many years of data? Look at the number of observations per year. What do you notice? "
   ]
  },
  {
   "cell_type": "code",
   "execution_count": 13,
   "id": "eb73f253",
   "metadata": {},
   "outputs": [],
   "source": [
    "country_count=gdp_df.groupby('Country')['GDP_Per_Capita'].count()"
   ]
  },
  {
   "cell_type": "code",
   "execution_count": 14,
   "id": "006cc935",
   "metadata": {},
   "outputs": [
    {
     "name": "stdout",
     "output_type": "stream",
     "text": [
      "Country\n",
      "Afghanistan                    19\n",
      "Africa Eastern and Southern    31\n",
      "Africa Western and Central     31\n",
      "Albania                        31\n",
      "Algeria                        31\n",
      "                               ..\n",
      "Vietnam                        31\n",
      "West Bank and Gaza             27\n",
      "World                          31\n",
      "Zambia                         31\n",
      "Zimbabwe                       31\n",
      "Name: GDP_Per_Capita, Length: 242, dtype: int64\n"
     ]
    }
   ],
   "source": [
    "print(country_count)"
   ]
  },
  {
   "cell_type": "code",
   "execution_count": 15,
   "id": "9d24f671",
   "metadata": {},
   "outputs": [],
   "source": [
    "country_count=gdp_df.groupby('Country')['GDP_Per_Capita'].count()"
   ]
  },
  {
   "cell_type": "code",
   "execution_count": 17,
   "id": "a32d3915",
   "metadata": {},
   "outputs": [],
   "source": [
    "country_count = country_count.sort_values(ascending=False)"
   ]
  },
  {
   "cell_type": "code",
   "execution_count": 19,
   "id": "3dbf17e0",
   "metadata": {},
   "outputs": [
    {
     "name": "stdout",
     "output_type": "stream",
     "text": [
      "Country\n",
      "Least developed countries: UN classification          31\n",
      "Niger                                                 31\n",
      "Middle East & North Africa (excluding high income)    31\n",
      "Middle income                                         31\n",
      "Mongolia                                              31\n",
      "                                                      ..\n",
      "Kosovo                                                13\n",
      "Turks and Caicos Islands                              10\n",
      "Sint Maarten (Dutch part)                             10\n",
      "Somalia                                                8\n",
      "Djibouti                                               8\n",
      "Name: GDP_Per_Capita, Length: 242, dtype: int64\n"
     ]
    }
   ],
   "source": [
    "print(country_count)"
   ]
  },
  {
   "cell_type": "markdown",
   "id": "a7b900cd",
   "metadata": {},
   "source": [
    "Q7a. How Many Countries have data for all years? \n"
   ]
  },
  {
   "cell_type": "markdown",
   "id": "34f2a7b0",
   "metadata": {},
   "source": [
    "A7a. (205)"
   ]
  },
  {
   "cell_type": "code",
   "execution_count": 24,
   "id": "65434de7",
   "metadata": {},
   "outputs": [],
   "source": [
    "all_years=country_count[country_count==31]\n",
    "count_allyears = len(all_years)"
   ]
  },
  {
   "cell_type": "code",
   "execution_count": 26,
   "id": "ea9a82f2",
   "metadata": {},
   "outputs": [
    {
     "name": "stdout",
     "output_type": "stream",
     "text": [
      "205\n"
     ]
    }
   ],
   "source": [
    "print(count_allyears)"
   ]
  },
  {
   "cell_type": "markdown",
   "id": "28cd370a",
   "metadata": {},
   "source": [
    "Q7b. Which countries are missing many years of data? Here I've defined \"many\" as more than (5)\n"
   ]
  },
  {
   "cell_type": "markdown",
   "id": "ff29a0cd",
   "metadata": {},
   "source": [
    "A7b. (31) See list below:"
   ]
  },
  {
   "cell_type": "code",
   "execution_count": 31,
   "id": "37ab8221",
   "metadata": {},
   "outputs": [],
   "source": [
    "missing_data=country_count[country_count<27]"
   ]
  },
  {
   "cell_type": "code",
   "execution_count": 32,
   "id": "045fc399",
   "metadata": {},
   "outputs": [
    {
     "name": "stdout",
     "output_type": "stream",
     "text": [
      "Country\n",
      "Maldives                     26\n",
      "Moldova                      26\n",
      "Kuwait                       26\n",
      "Iceland                      26\n",
      "Latvia                       26\n",
      "Croatia                      26\n",
      "Israel                       26\n",
      "Slovenia                     26\n",
      "Lithuania                    26\n",
      "Estonia                      26\n",
      "Serbia                       26\n",
      "Canada                       24\n",
      "San Marino                   24\n",
      "Small states                 24\n",
      "Montenegro                   24\n",
      "Libya                        22\n",
      "Palau                        21\n",
      "Liberia                      21\n",
      "Other small states           21\n",
      "Qatar                        21\n",
      "CuraÃ§ao                     21\n",
      "Timor-Leste                  21\n",
      "SÃ£o TomÃ© and Principe      20\n",
      "Afghanistan                  19\n",
      "Nauru                        17\n",
      "Cayman Islands               15\n",
      "Kosovo                       13\n",
      "Turks and Caicos Islands     10\n",
      "Sint Maarten (Dutch part)    10\n",
      "Somalia                       8\n",
      "Djibouti                      8\n",
      "Name: GDP_Per_Capita, dtype: int64\n"
     ]
    }
   ],
   "source": [
    "print(missing_data)"
   ]
  },
  {
   "cell_type": "code",
   "execution_count": 33,
   "id": "fbacb52c",
   "metadata": {},
   "outputs": [],
   "source": [
    "count_missingdata = len(missing_data)"
   ]
  },
  {
   "cell_type": "code",
   "execution_count": 34,
   "id": "6323ffbc",
   "metadata": {},
   "outputs": [
    {
     "name": "stdout",
     "output_type": "stream",
     "text": [
      "31\n"
     ]
    }
   ],
   "source": [
    "print(count_missingdata)"
   ]
  },
  {
   "cell_type": "markdown",
   "id": "1dee0d6b",
   "metadata": {},
   "source": [
    "Look at the number of observations per year. What do you notice? "
   ]
  },
  {
   "cell_type": "code",
   "execution_count": 35,
   "id": "75ff72b5",
   "metadata": {},
   "outputs": [],
   "source": [
    "year_count = gdp_df.groupby('Year')['GDP_Per_Capita'].count()"
   ]
  },
  {
   "cell_type": "code",
   "execution_count": 36,
   "id": "177c8974",
   "metadata": {},
   "outputs": [
    {
     "name": "stdout",
     "output_type": "stream",
     "text": [
      "Year\n",
      "1990    206\n",
      "1991    207\n",
      "1992    208\n",
      "1993    209\n",
      "1994    211\n",
      "1995    222\n",
      "1996    222\n",
      "1997    226\n",
      "1998    226\n",
      "1999    227\n",
      "2000    233\n",
      "2001    234\n",
      "2002    235\n",
      "2003    235\n",
      "2004    236\n",
      "2005    236\n",
      "2006    237\n",
      "2007    237\n",
      "2008    238\n",
      "2009    239\n",
      "2010    239\n",
      "2011    240\n",
      "2012    240\n",
      "2013    242\n",
      "2014    242\n",
      "2015    242\n",
      "2016    242\n",
      "2017    242\n",
      "2018    242\n",
      "2019    241\n",
      "2020    240\n",
      "Name: GDP_Per_Capita, dtype: int64\n"
     ]
    }
   ],
   "source": [
    "print(year_count)"
   ]
  },
  {
   "cell_type": "code",
   "execution_count": 37,
   "id": "c5c08bfa",
   "metadata": {},
   "outputs": [],
   "source": [
    "somalia = gdp_df.loc[gdp_df['Country'] == 'Somalia']"
   ]
  },
  {
   "cell_type": "code",
   "execution_count": 38,
   "id": "c780550f",
   "metadata": {},
   "outputs": [
    {
     "name": "stdout",
     "output_type": "stream",
     "text": [
      "      Country  Year  GDP_Per_Capita\n",
      "5871  Somalia  2020     1180.965971\n",
      "5872  Somalia  2019     1186.450871\n",
      "5873  Somalia  2018     1129.531464\n",
      "5874  Somalia  2017     1079.112443\n",
      "5875  Somalia  2016     1081.763907\n",
      "5876  Somalia  2015     1026.038180\n",
      "5877  Somalia  2014      917.876549\n",
      "5878  Somalia  2013      877.301006\n"
     ]
    }
   ],
   "source": [
    "print(somalia)"
   ]
  },
  {
   "cell_type": "markdown",
   "id": "fba7c69e",
   "metadata": {},
   "source": [
    "Looks like Somalia didn't start reporting until 2013, either they didn't have GDP or didn't report"
   ]
  },
  {
   "cell_type": "code",
   "execution_count": null,
   "id": "b8514349",
   "metadata": {},
   "outputs": [],
   "source": []
  }
 ],
 "metadata": {
  "kernelspec": {
   "display_name": "Python 3 (ipykernel)",
   "language": "python",
   "name": "python3"
  },
  "language_info": {
   "codemirror_mode": {
    "name": "ipython",
    "version": 3
   },
   "file_extension": ".py",
   "mimetype": "text/x-python",
   "name": "python",
   "nbconvert_exporter": "python",
   "pygments_lexer": "ipython3",
   "version": "3.10.9"
  }
 },
 "nbformat": 4,
 "nbformat_minor": 5
}
